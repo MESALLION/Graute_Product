{
 "cells": [
  {
   "cell_type": "code",
   "execution_count": 27,
   "metadata": {},
   "outputs": [
    {
     "name": "stdout",
     "output_type": "stream",
     "text": [
      "cuda\n"
     ]
    }
   ],
   "source": [
    "# GPU사용을 확인\n",
    "import torch\n",
    "\n",
    "device = torch.device(\"cuda\" if torch.cuda.is_available() else \"cpu\")\n",
    "\n",
    "print(device)\n",
    "\n",
    "# 출력은 cuda로 나와야함"
   ]
  },
  {
   "cell_type": "code",
   "execution_count": 25,
   "metadata": {},
   "outputs": [
    {
     "name": "stdout",
     "output_type": "stream",
     "text": [
      "현재 작업 경로 :  C:\\Users\\User\\Documents\\workspace\\GrauteProject\\training\\yolov5\n",
      "변경 작업 경로 :  C:\\Users\\User\\Documents\\workspace\\Graute_Product\\training\n"
     ]
    }
   ],
   "source": [
    "import os\n",
    "os.environ[\"KMP_DUPLICATE_LIB_OK\"] = \"TRUE\"\n",
    "\n",
    "print('현재 작업 경로 : ', os.getcwd())\n",
    "# 사용하고자하는 폴더\n",
    "os.chdir('C:/Users/User/Documents/workspace/Graute_Product/training')\n",
    "print('변경 작업 경로 : ', os.getcwd())"
   ]
  },
  {
   "cell_type": "code",
   "execution_count": 22,
   "metadata": {},
   "outputs": [
    {
     "name": "stdout",
     "output_type": "stream",
     "text": [
      "C:\\Users\\User\\Documents\\workspace\\GrauteProject\\training\\yolov5\n"
     ]
    },
    {
     "name": "stderr",
     "output_type": "stream",
     "text": [
      "fatal: destination path 'yolov5' already exists and is not an empty directory.\n"
     ]
    },
    {
     "name": "stdout",
     "output_type": "stream",
     "text": [
      "Note: you may need to restart the kernel to use updated packages.\n",
      "Note: you may need to restart the kernel to use updated packages.\n"
     ]
    }
   ],
   "source": [
    "# yolov5를 사용하기 위한 의존성\n",
    "!git clone https://github.com/ultralytics/yolov5\n",
    "%cd yolov5\n",
    "%pip install -qr requirements.txt\n",
    "%pip install -q roboflow"
   ]
  },
  {
   "cell_type": "code",
   "execution_count": 18,
   "metadata": {},
   "outputs": [],
   "source": [
    "import yaml"
   ]
  },
  {
   "cell_type": "code",
   "execution_count": 19,
   "metadata": {},
   "outputs": [],
   "source": [
    "# dataset위치 잡기\n",
    "data_dir = 'C:/Users/User/Documents/workspace/Graute_Product/training/dataset/Drone.v1i.yolov5pytorch'\n",
    "data_yaml = 'C:/Users/User/Documents/workspace/Graute_Product/training/dataset/Drone.v1i.yolov5pytorch/data.yaml'"
   ]
  },
  {
   "cell_type": "code",
   "execution_count": 20,
   "metadata": {},
   "outputs": [
    {
     "data": {
      "text/plain": [
       "{'names': ['drone'],\n",
       " 'nc': 1,\n",
       " 'roboflow': {'license': 'CC BY 4.0',\n",
       "  'project': 'drone-uskpc',\n",
       "  'url': 'https://universe.roboflow.com/project-986i8/drone-uskpc/dataset/1',\n",
       "  'version': 1,\n",
       "  'workspace': 'project-986i8'},\n",
       " 'test': 'C:/Users/User/Documents/workspace/Graute_Product/training/dataset/Drone.v1i.yolov5pytorch/test/images',\n",
       " 'train': 'C:/Users/User/Documents/workspace/Graute_Product/training/dataset/Drone.v1i.yolov5pytorch/train/images',\n",
       " 'val': 'C:/Users/User/Documents/workspace/Graute_Product/training/dataset/Drone.v1i.yolov5pytorch/valid/images'}"
      ]
     },
     "metadata": {},
     "output_type": "display_data"
    }
   ],
   "source": [
    "with open(data_yaml) as f:\n",
    "  film = yaml.load(f, Loader=yaml.FullLoader)\n",
    "  display(film)"
   ]
  },
  {
   "cell_type": "code",
   "execution_count": 21,
   "metadata": {
    "scrolled": true
   },
   "outputs": [
    {
     "name": "stdout",
     "output_type": "stream",
     "text": [
      "변경된 yaml 파일 : \n"
     ]
    },
    {
     "data": {
      "text/plain": [
       "{'names': ['drone'],\n",
       " 'nc': 1,\n",
       " 'roboflow': {'license': 'CC BY 4.0',\n",
       "  'project': 'drone-uskpc',\n",
       "  'url': 'https://universe.roboflow.com/project-986i8/drone-uskpc/dataset/1',\n",
       "  'version': 1,\n",
       "  'workspace': 'project-986i8'},\n",
       " 'test': 'C:/Users/User/Documents/workspace/Graute_Product/training/dataset/Drone.v1i.yolov5pytorch/test/images',\n",
       " 'train': 'C:/Users/User/Documents/workspace/Graute_Product/training/dataset/Drone.v1i.yolov5pytorch/train/images',\n",
       " 'val': 'C:/Users/User/Documents/workspace/Graute_Product/training/dataset/Drone.v1i.yolov5pytorch/valid/images'}"
      ]
     },
     "metadata": {},
     "output_type": "display_data"
    }
   ],
   "source": [
    "film['train'] = 'C:/Users/User/Documents/workspace/Graute_Product/training/dataset/Drone.v1i.yolov5pytorch/train/images'\n",
    "film['val'] = 'C:/Users/User/Documents/workspace/Graute_Product/training/dataset/Drone.v1i.yolov5pytorch/valid/images'\n",
    "film['test'] = 'C:/Users/User/Documents/workspace/Graute_Product/training/dataset/Drone.v1i.yolov5pytorch/test/images'\n",
    "\n",
    "with open(data_yaml, 'w') as f:\n",
    "  yaml.dump(film, f)\n",
    "\n",
    "print('변경된 yaml 파일 : ')\n",
    "with open(data_yaml) as f:\n",
    "  film = yaml.load(f, Loader=yaml.FullLoader)\n",
    "  display(film)"
   ]
  },
  {
   "cell_type": "code",
   "execution_count": 26,
   "metadata": {},
   "outputs": [
    {
     "name": "stdout",
     "output_type": "stream",
     "text": [
      "마자막 경로 확인 :  C:\\Users\\User\\Documents\\workspace\\Graute_Product\\training\n",
      "현재 작업 경로 :  C:\\Users\\User\\Documents\\workspace\\Graute_Product\\yolov5\n"
     ]
    }
   ],
   "source": [
    "print('마자막 경로 확인 : ', os.getcwd())\n",
    "# 사용하고자하는 폴더\n",
    "os.chdir('C:/Users/User/Documents/workspace/Graute_Product/yolov5')\n",
    "print('현재 작업 경로 : ', os.getcwd())"
   ]
  },
  {
   "cell_type": "code",
   "execution_count": 15,
   "metadata": {},
   "outputs": [
    {
     "name": "stdout",
     "output_type": "stream",
     "text": [
      "^C\n"
     ]
    }
   ],
   "source": [
    "!python train.py --img 416 --batch 16 --epochs 300 --data {data_yaml} --weights yolov5s.pt --cache"
   ]
  }
 ],
 "metadata": {
  "kernelspec": {
   "display_name": "Python 3 (ipykernel)",
   "language": "python",
   "name": "python3"
  },
  "language_info": {
   "codemirror_mode": {
    "name": "ipython",
    "version": 3
   },
   "file_extension": ".py",
   "mimetype": "text/x-python",
   "name": "python",
   "nbconvert_exporter": "python",
   "pygments_lexer": "ipython3",
   "version": "3.12.2"
  }
 },
 "nbformat": 4,
 "nbformat_minor": 4
}
