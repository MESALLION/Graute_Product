{
 "cells": [
  {
   "cell_type": "code",
   "execution_count": 1,
   "metadata": {},
   "outputs": [
    {
     "name": "stdout",
     "output_type": "stream",
     "text": [
      "cuda\n"
     ]
    }
   ],
   "source": [
    "# GPU사용을 확인\n",
    "import torch\n",
    "\n",
    "device = torch.device(\"cuda\" if torch.cuda.is_available() else \"cpu\")\n",
    "\n",
    "print(device)\n",
    "\n",
    "# 출력은 cuda로 나와야함"
   ]
  },
  {
   "cell_type": "code",
   "execution_count": 2,
   "metadata": {},
   "outputs": [
    {
     "name": "stdout",
     "output_type": "stream",
     "text": [
      "현재 작업 경로 :  c:\\Users\\User\\Documents\\workspace\\Graute_Product\\training\n",
      "변경 작업 경로 :  C:\\Users\\User\\Documents\\workspace\\Graute_Product\\training\n"
     ]
    }
   ],
   "source": [
    "import os\n",
    "os.environ[\"KMP_DUPLICATE_LIB_OK\"] = \"TRUE\"\n",
    "\n",
    "print('현재 작업 경로 : ', os.getcwd())\n",
    "# 사용하고자하는 폴더\n",
    "os.chdir('C:/Users/User/Documents/workspace/Graute_Product/training')\n",
    "print('변경 작업 경로 : ', os.getcwd())"
   ]
  },
  {
   "cell_type": "code",
   "execution_count": 8,
   "metadata": {},
   "outputs": [
    {
     "name": "stdout",
     "output_type": "stream",
     "text": [
      "C:\\Users\\User\\Documents\\workspace\\Graute_Product\\yolov5\\yolov5\n"
     ]
    },
    {
     "name": "stderr",
     "output_type": "stream",
     "text": [
      "Cloning into 'yolov5'...\n"
     ]
    },
    {
     "name": "stdout",
     "output_type": "stream",
     "text": [
      "Note: you may need to restart the kernel to use updated packages.\n",
      "Note: you may need to restart the kernel to use updated packages.\n"
     ]
    }
   ],
   "source": [
    "# yolov5를 사용하기 위한 의존성\n",
    "!git clone https://github.com/ultralytics/yolov5\n",
    "%cd yolov5\n",
    "%pip install -qr requirements.txt\n",
    "%pip install -q roboflow"
   ]
  },
  {
   "cell_type": "code",
   "execution_count": 3,
   "metadata": {},
   "outputs": [],
   "source": [
    "import yaml"
   ]
  },
  {
   "cell_type": "code",
   "execution_count": 4,
   "metadata": {},
   "outputs": [],
   "source": [
    "# dataset위치 잡기\n",
    "data_dir = 'C:/Users/User/Documents/workspace/Graute_Product/training/dataset/Drone.v1i.yolov5pytorch'\n",
    "data_yaml = 'C:/Users/User/Documents/workspace/Graute_Product/training/dataset/Drone.v1i.yolov5pytorch/data.yaml'"
   ]
  },
  {
   "cell_type": "code",
   "execution_count": 5,
   "metadata": {},
   "outputs": [
    {
     "data": {
      "text/plain": [
       "{'names': ['drone'],\n",
       " 'nc': 1,\n",
       " 'roboflow': {'license': 'CC BY 4.0',\n",
       "  'project': 'drone-uskpc',\n",
       "  'url': 'https://universe.roboflow.com/project-986i8/drone-uskpc/dataset/1',\n",
       "  'version': 1,\n",
       "  'workspace': 'project-986i8'},\n",
       " 'test': 'C:/Users/User/Documents/workspace/Graute_Product/training/dataset/Drone.v1i.yolov5pytorch/test/images',\n",
       " 'train': 'C:/Users/User/Documents/workspace/Graute_Product/training/dataset/Drone.v1i.yolov5pytorch/train/images',\n",
       " 'val': 'C:/Users/User/Documents/workspace/Graute_Product/training/dataset/Drone.v1i.yolov5pytorch/valid/images'}"
      ]
     },
     "metadata": {},
     "output_type": "display_data"
    }
   ],
   "source": [
    "with open(data_yaml) as f:\n",
    "  film = yaml.load(f, Loader=yaml.FullLoader)\n",
    "  display(film)"
   ]
  },
  {
   "cell_type": "code",
   "execution_count": 6,
   "metadata": {
    "scrolled": true
   },
   "outputs": [
    {
     "name": "stdout",
     "output_type": "stream",
     "text": [
      "변경된 yaml 파일 : \n"
     ]
    },
    {
     "data": {
      "text/plain": [
       "{'names': ['drone'],\n",
       " 'nc': 1,\n",
       " 'roboflow': {'license': 'CC BY 4.0',\n",
       "  'project': 'drone-uskpc',\n",
       "  'url': 'https://universe.roboflow.com/project-986i8/drone-uskpc/dataset/1',\n",
       "  'version': 1,\n",
       "  'workspace': 'project-986i8'},\n",
       " 'test': 'C:/Users/User/Documents/workspace/Graute_Product/training/dataset/Drone.v1i.yolov5pytorch/test/images',\n",
       " 'train': 'C:/Users/User/Documents/workspace/Graute_Product/training/dataset/Drone.v1i.yolov5pytorch/train/images',\n",
       " 'val': 'C:/Users/User/Documents/workspace/Graute_Product/training/dataset/Drone.v1i.yolov5pytorch/valid/images'}"
      ]
     },
     "metadata": {},
     "output_type": "display_data"
    }
   ],
   "source": [
    "film['train'] = 'C:/Users/User/Documents/workspace/Graute_Product/training/dataset/Drone.v1i.yolov5pytorch/train/images'\n",
    "film['val'] = 'C:/Users/User/Documents/workspace/Graute_Product/training/dataset/Drone.v1i.yolov5pytorch/valid/images'\n",
    "film['test'] = 'C:/Users/User/Documents/workspace/Graute_Product/training/dataset/Drone.v1i.yolov5pytorch/test/images'\n",
    "\n",
    "with open(data_yaml, 'w') as f:\n",
    "  yaml.dump(film, f)\n",
    "\n",
    "print('변경된 yaml 파일 : ')\n",
    "with open(data_yaml) as f:\n",
    "  film = yaml.load(f, Loader=yaml.FullLoader)\n",
    "  display(film)"
   ]
  },
  {
   "cell_type": "code",
   "execution_count": 10,
   "metadata": {},
   "outputs": [
    {
     "name": "stdout",
     "output_type": "stream",
     "text": [
      "마자막 경로 확인 :  C:\\Users\\User\\Documents\\workspace\\Graute_Product\\yolov5\n",
      "현재 작업 경로 :  C:\\Users\\User\\Documents\\workspace\\Graute_Product\\yolov5\n"
     ]
    }
   ],
   "source": [
    "print('마자막 경로 확인 : ', os.getcwd())\n",
    "# 사용하고자하는 폴더\n",
    "os.chdir('C:/Users/User/Documents/workspace/Graute_Product/yolov5')\n",
    "print('현재 작업 경로 : ', os.getcwd())"
   ]
  },
  {
   "cell_type": "code",
   "execution_count": 12,
   "metadata": {},
   "outputs": [
    {
     "name": "stdout",
     "output_type": "stream",
     "text": [
      "^C\n"
     ]
    },
    {
     "name": "stdout",
     "output_type": "stream",
     "text": [
      "\u001b[34m\u001b[1mgithub: \u001b[0mskipping check (not a git repository), for updates see https://github.com/ultralytics/yolov5\n"
     ]
    },
    {
     "name": "stderr",
     "output_type": "stream",
     "text": [
      "\u001b[34m\u001b[1mtrain: \u001b[0mweights=yolov5s.pt, cfg=, data=C:/Users/User/Documents/workspace/Graute_Product/training/dataset/Drone.v1i.yolov5pytorch/data.yaml, hyp=data\\hyps\\hyp.scratch-low.yaml, epochs=300, batch_size=16, imgsz=416, rect=False, resume=False, nosave=False, noval=False, noautoanchor=False, noplots=False, evolve=None, evolve_population=data\\hyps, resume_evolve=None, bucket=, cache=ram, image_weights=False, device=, multi_scale=False, single_cls=False, optimizer=SGD, sync_bn=False, workers=8, project=runs\\train, name=exp, exist_ok=False, quad=False, cos_lr=False, label_smoothing=0.0, patience=100, freeze=[0], save_period=-1, seed=0, local_rank=-1, entity=None, upload_dataset=False, bbox_interval=-1, artifact_alias=latest, ndjson_console=False, ndjson_file=False\n",
      "YOLOv5  2024-4-13 Python-3.12.2 torch-2.2.2+cu121 CUDA:0 (NVIDIA GeForce RTX 4070 Ti, 12282MiB)\n",
      "\n",
      "\u001b[34m\u001b[1mhyperparameters: \u001b[0mlr0=0.01, lrf=0.01, momentum=0.937, weight_decay=0.0005, warmup_epochs=3.0, warmup_momentum=0.8, warmup_bias_lr=0.1, box=0.05, cls=0.5, cls_pw=1.0, obj=1.0, obj_pw=1.0, iou_t=0.2, anchor_t=4.0, fl_gamma=0.0, hsv_h=0.015, hsv_s=0.7, hsv_v=0.4, degrees=0.0, translate=0.1, scale=0.5, shear=0.0, perspective=0.0, flipud=0.0, fliplr=0.5, mosaic=1.0, mixup=0.0, copy_paste=0.0\n",
      "\u001b[34m\u001b[1mComet: \u001b[0mrun 'pip install comet_ml' to automatically track and visualize YOLOv5  runs in Comet\n",
      "\u001b[34m\u001b[1mTensorBoard: \u001b[0mStart with 'tensorboard --logdir runs\\train', view at http://localhost:6006/\n",
      "Overriding model.yaml nc=80 with nc=1\n",
      "\n",
      "                 from  n    params  module                                  arguments                     \n",
      "  0                -1  1      3520  models.common.Conv                      [3, 32, 6, 2, 2]              \n",
      "  1                -1  1     18560  models.common.Conv                      [32, 64, 3, 2]                \n",
      "  2                -1  1     18816  models.common.C3                        [64, 64, 1]                   \n",
      "  3                -1  1     73984  models.common.Conv                      [64, 128, 3, 2]               \n",
      "  4                -1  2    115712  models.common.C3                        [128, 128, 2]                 \n",
      "  5                -1  1    295424  models.common.Conv                      [128, 256, 3, 2]              \n",
      "  6                -1  3    625152  models.common.C3                        [256, 256, 3]                 \n",
      "  7                -1  1   1180672  models.common.Conv                      [256, 512, 3, 2]              \n",
      "  8                -1  1   1182720  models.common.C3                        [512, 512, 1]                 \n",
      "  9                -1  1    656896  models.common.SPPF                      [512, 512, 5]                 \n",
      " 10                -1  1    131584  models.common.Conv                      [512, 256, 1, 1]              \n",
      " 11                -1  1         0  torch.nn.modules.upsampling.Upsample    [None, 2, 'nearest']          \n",
      " 12           [-1, 6]  1         0  models.common.Concat                    [1]                           \n",
      " 13                -1  1    361984  models.common.C3                        [512, 256, 1, False]          \n",
      " 14                -1  1     33024  models.common.Conv                      [256, 128, 1, 1]              \n",
      " 15                -1  1         0  torch.nn.modules.upsampling.Upsample    [None, 2, 'nearest']          \n",
      " 16           [-1, 4]  1         0  models.common.Concat                    [1]                           \n",
      " 17                -1  1     90880  models.common.C3                        [256, 128, 1, False]          \n",
      " 18                -1  1    147712  models.common.Conv                      [128, 128, 3, 2]              \n",
      " 19          [-1, 14]  1         0  models.common.Concat                    [1]                           \n",
      " 20                -1  1    296448  models.common.C3                        [256, 256, 1, False]          \n",
      " 21                -1  1    590336  models.common.Conv                      [256, 256, 3, 2]              \n",
      " 22          [-1, 10]  1         0  models.common.Concat                    [1]                           \n",
      " 23                -1  1   1182720  models.common.C3                        [512, 512, 1, False]          \n",
      " 24      [17, 20, 23]  1     16182  models.yolo.Detect                      [1, [[10, 13, 16, 30, 33, 23], [30, 61, 62, 45, 59, 119], [116, 90, 156, 198, 373, 326]], [128, 256, 512]]\n",
      "Model summary: 214 layers, 7022326 parameters, 7022326 gradients, 15.9 GFLOPs\n",
      "\n",
      "Transferred 343/349 items from yolov5s.pt\n",
      "\u001b[34m\u001b[1mAMP: \u001b[0mchecks passed \n",
      "\u001b[34m\u001b[1moptimizer:\u001b[0m SGD(lr=0.01) with parameter groups 57 weight(decay=0.0), 60 weight(decay=0.0005), 60 bias\n",
      "\n",
      "\u001b[34m\u001b[1mtrain: \u001b[0mScanning C:\\Users\\User\\Documents\\workspace\\Graute_Product\\training\\dataset\\Drone.v1i.yolov5pytorch\\train\\labels.cache... 15687 images, 2 backgrounds, 0 corrupt: 100%|██████████| 15687/15687 [00:00<?, ?it/s]\n",
      "\u001b[34m\u001b[1mtrain: \u001b[0mScanning C:\\Users\\User\\Documents\\workspace\\Graute_Product\\training\\dataset\\Drone.v1i.yolov5pytorch\\train\\labels.cache... 15687 images, 2 backgrounds, 0 corrupt: 100%|██████████| 15687/15687 [00:00<?, ?it/s]\n",
      "\u001b[34m\u001b[1mtrain: \u001b[0m7.6GB RAM required, 0.1/31.8GB available, not caching images \n",
      "Traceback (most recent call last):\n",
      "  File \"C:\\Users\\User\\Documents\\workspace\\Graute_Product\\yolov5\\train.py\", line 848, in <module>\n",
      "    main(opt)\n",
      "  File \"C:\\Users\\User\\Documents\\workspace\\Graute_Product\\yolov5\\train.py\", line 623, in main\n",
      "    train(opt.hyp, opt, device, callbacks)\n",
      "  File \"C:\\Users\\User\\Documents\\workspace\\Graute_Product\\yolov5\\train.py\", line 254, in train\n",
      "    train_loader, dataset = create_dataloader(\n",
      "                            ^^^^^^^^^^^^^^^^^^\n",
      "  File \"C:\\Users\\User\\Documents\\workspace\\Graute_Product\\yolov5\\utils\\dataloaders.py\", line 204, in create_dataloader\n",
      "    return loader(\n",
      "           ^^^^^^^\n",
      "  File \"C:\\Users\\User\\Documents\\workspace\\Graute_Product\\yolov5\\utils\\dataloaders.py\", line 230, in __init__\n",
      "    self.iterator = super().__iter__()\n",
      "                    ^^^^^^^^^^^^^^^^^^\n",
      "  File \"c:\\Users\\User\\anaconda3\\envs\\tensor\\Lib\\site-packages\\torch\\utils\\data\\dataloader.py\", line 439, in __iter__\n",
      "Traceback (most recent call last):\n",
      "  File \"<string>\", line 1, in <module>\n",
      "  File \"c:\\Users\\User\\anaconda3\\envs\\tensor\\Lib\\multiprocessing\\spawn.py\", line 122, in spawn_main\n",
      "    exitcode = _main(fd, parent_sentinel)\n",
      "               ^^^^^^^^^^^^^^^^^^^^^^^^^^\n",
      "  File \"c:\\Users\\User\\anaconda3\\envs\\tensor\\Lib\\multiprocessing\\spawn.py\", line 132, in _main\n",
      "    self = reduction.pickle.load(from_parent)\n",
      "           ^^^^^^^^^^^^^^^^^^^^^^^^^^^^^^^^^^\n",
      "EOFError: Ran out of input\n",
      "    return self._get_iterator()\n",
      "           ^^^^^^^^^^^^^^^^^^^^\n",
      "  File \"c:\\Users\\User\\anaconda3\\envs\\tensor\\Lib\\site-packages\\torch\\utils\\data\\dataloader.py\", line 387, in _get_iterator\n",
      "    return _MultiProcessingDataLoaderIter(self)\n",
      "           ^^^^^^^^^^^^^^^^^^^^^^^^^^^^^^^^^^^^\n",
      "  File \"c:\\Users\\User\\anaconda3\\envs\\tensor\\Lib\\site-packages\\torch\\utils\\data\\dataloader.py\", line 1040, in __init__\n",
      "    w.start()\n",
      "  File \"c:\\Users\\User\\anaconda3\\envs\\tensor\\Lib\\multiprocessing\\process.py\", line 121, in start\n",
      "    self._popen = self._Popen(self)\n",
      "                  ^^^^^^^^^^^^^^^^^\n",
      "  File \"c:\\Users\\User\\anaconda3\\envs\\tensor\\Lib\\multiprocessing\\context.py\", line 224, in _Popen\n",
      "    return _default_context.get_context().Process._Popen(process_obj)\n",
      "           ^^^^^^^^^^^^^^^^^^^^^^^^^^^^^^^^^^^^^^^^^^^^^^^^^^^^^^^^^^\n",
      "  File \"c:\\Users\\User\\anaconda3\\envs\\tensor\\Lib\\multiprocessing\\context.py\", line 337, in _Popen\n",
      "    return Popen(process_obj)\n",
      "           ^^^^^^^^^^^^^^^^^^\n",
      "  File \"c:\\Users\\User\\anaconda3\\envs\\tensor\\Lib\\multiprocessing\\popen_spawn_win32.py\", line 95, in __init__\n",
      "    reduction.dump(process_obj, to_child)\n",
      "  File \"c:\\Users\\User\\anaconda3\\envs\\tensor\\Lib\\multiprocessing\\reduction.py\", line 60, in dump\n",
      "    ForkingPickler(file, protocol).dump(obj)\n",
      "MemoryError\n"
     ]
    }
   ],
   "source": [
    "!python train.py --img 416 --batch 16 --epochs 300 --data {data_yaml} --weights yolov5s.pt --cache"
   ]
  }
 ],
 "metadata": {
  "kernelspec": {
   "display_name": "Python 3 (ipykernel)",
   "language": "python",
   "name": "python3"
  },
  "language_info": {
   "codemirror_mode": {
    "name": "ipython",
    "version": 3
   },
   "file_extension": ".py",
   "mimetype": "text/x-python",
   "name": "python",
   "nbconvert_exporter": "python",
   "pygments_lexer": "ipython3",
   "version": "3.12.2"
  }
 },
 "nbformat": 4,
 "nbformat_minor": 4
}
