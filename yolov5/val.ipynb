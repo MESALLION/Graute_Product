{
 "cells": [
  {
   "cell_type": "code",
   "execution_count": 1,
   "metadata": {},
   "outputs": [
    {
     "name": "stdout",
     "output_type": "stream",
     "text": [
      "cuda\n"
     ]
    }
   ],
   "source": [
    "# GPU사용을 확인\n",
    "import torch\n",
    "\n",
    "device = torch.device(\"cuda\" if torch.cuda.is_available() else \"cpu\")\n",
    "\n",
    "print(device)\n",
    "\n",
    "# 출력은 cuda로 나와야함"
   ]
  },
  {
   "cell_type": "code",
   "execution_count": 2,
   "metadata": {},
   "outputs": [
    {
     "name": "stdout",
     "output_type": "stream",
     "text": [
      "현재 작업 경로 :  c:\\Users\\User\\Documents\\workspace\\Graute_Product\\yolov5\n",
      "변경 작업 경로 :  C:\\Users\\User\\Documents\\workspace\\Graute_Product\\yolov5\n"
     ]
    }
   ],
   "source": [
    "import os\n",
    "os.environ[\"KMP_DUPLICATE_LIB_OK\"] = \"TRUE\"\n",
    "\n",
    "print('현재 작업 경로 : ', os.getcwd())\n",
    "# 사용하고자하는 폴더\n",
    "os.chdir('C:/Users/User/Documents/workspace/Graute_Product/yolov5')\n",
    "print('변경 작업 경로 : ', os.getcwd())"
   ]
  },
  {
   "cell_type": "code",
   "execution_count": 3,
   "metadata": {},
   "outputs": [],
   "source": [
    "import yaml"
   ]
  },
  {
   "cell_type": "code",
   "execution_count": 4,
   "metadata": {},
   "outputs": [],
   "source": [
    "# dataset위치 잡기\n",
    "data_dir = 'C:/Users/User/Documents/workspace/Graute_Product/training/dataset/drone.v9i.yolov5pytorch'\n",
    "data_yaml = 'C:/Users/User/Documents/workspace/Graute_Product/training/dataset/drone.v9i.yolov5pytorch/data.yaml'"
   ]
  },
  {
   "cell_type": "code",
   "execution_count": 5,
   "metadata": {},
   "outputs": [
    {
     "data": {
      "text/plain": [
       "{'train': '../train/images',\n",
       " 'val': '../valid/images',\n",
       " 'test': '../test/images',\n",
       " 'nc': 1,\n",
       " 'names': ['drone'],\n",
       " 'roboflow': {'workspace': 'drone-za1rm',\n",
       "  'project': 'drone-80mc8',\n",
       "  'version': 9,\n",
       "  'license': 'CC BY 4.0',\n",
       "  'url': 'https://universe.roboflow.com/drone-za1rm/drone-80mc8/dataset/9'}}"
      ]
     },
     "metadata": {},
     "output_type": "display_data"
    }
   ],
   "source": [
    "with open(data_yaml) as f:\n",
    "  film = yaml.load(f, Loader=yaml.FullLoader)\n",
    "  display(film)"
   ]
  },
  {
   "cell_type": "code",
   "execution_count": 6,
   "metadata": {},
   "outputs": [
    {
     "name": "stdout",
     "output_type": "stream",
     "text": [
      "변경된 yaml 파일 : \n"
     ]
    },
    {
     "data": {
      "text/plain": [
       "{'names': ['drone'],\n",
       " 'nc': 1,\n",
       " 'roboflow': {'license': 'CC BY 4.0',\n",
       "  'project': 'drone-80mc8',\n",
       "  'url': 'https://universe.roboflow.com/drone-za1rm/drone-80mc8/dataset/9',\n",
       "  'version': 9,\n",
       "  'workspace': 'drone-za1rm'},\n",
       " 'test': 'C:/Users/User/Documents/workspace/Graute_Product/training/dataset/drone.v9i.yolov5pytorch/test/images',\n",
       " 'train': '../train/images',\n",
       " 'val': 'C:/Users/User/Documents/workspace/Graute_Product/training/dataset/drone.v9i.yolov5pytorch/valid/images'}"
      ]
     },
     "metadata": {},
     "output_type": "display_data"
    }
   ],
   "source": [
    "film['val'] = 'C:/Users/User/Documents/workspace/Graute_Product/training/dataset/drone.v9i.yolov5pytorch/valid/images'\n",
    "film['test'] = 'C:/Users/User/Documents/workspace/Graute_Product/training/dataset/drone.v9i.yolov5pytorch/test/images'\n",
    "\n",
    "with open(data_yaml, 'w') as f:\n",
    "  yaml.dump(film, f)\n",
    "\n",
    "print('변경된 yaml 파일 : ')\n",
    "with open(data_yaml) as f:\n",
    "  film = yaml.load(f, Loader=yaml.FullLoader)\n",
    "  display(film)"
   ]
  },
  {
   "cell_type": "code",
   "execution_count": 7,
   "metadata": {},
   "outputs": [
    {
     "name": "stdout",
     "output_type": "stream",
     "text": [
      "마자막 경로 확인 :  C:\\Users\\User\\Documents\\workspace\\Graute_Product\\yolov5\n",
      "현재 작업 경로 :  C:\\Users\\User\\Documents\\workspace\\Graute_Product\\yolov5\n"
     ]
    }
   ],
   "source": [
    "print('마자막 경로 확인 : ', os.getcwd())\n",
    "# 사용하고자하는 폴더\n",
    "os.chdir('C:/Users/User/Documents/workspace/Graute_Product/yolov5')\n",
    "print('현재 작업 경로 : ', os.getcwd())"
   ]
  },
  {
   "cell_type": "code",
   "execution_count": 8,
   "metadata": {},
   "outputs": [
    {
     "name": "stderr",
     "output_type": "stream",
     "text": [
      "\u001b[34m\u001b[1mval: \u001b[0mdata=C:/Users/User/Documents/workspace/Graute_Product/training/dataset/drone.v9i.yolov5pytorch/data.yaml, weights=['dronebestv2.pt'], batch_size=32, imgsz=640, conf_thres=0.001, iou_thres=0.6, max_det=300, task=test, device=0, workers=8, single_cls=False, augment=False, verbose=False, save_txt=True, save_hybrid=False, save_conf=False, save_json=False, project=runs\\val, name=exp, exist_ok=False, half=False, dnn=False\n",
      "YOLOv5  2024-4-13 Python-3.12.2 torch-2.2.2+cu121 CUDA:0 (NVIDIA GeForce RTX 4070 Ti, 12282MiB)\n",
      "\n",
      "Fusing layers... \n",
      "Model summary: 157 layers, 7012822 parameters, 0 gradients, 15.8 GFLOPs\n",
      "\n",
      "\u001b[34m\u001b[1mtest: \u001b[0mScanning C:\\Users\\User\\Documents\\workspace\\Graute_Product\\training\\dataset\\drone.v9i.yolov5pytorch\\test\\labels...:   0%|          | 0/507 [00:00<?, ?it/s]\n",
      "\u001b[34m\u001b[1mtest: \u001b[0mScanning C:\\Users\\User\\Documents\\workspace\\Graute_Product\\training\\dataset\\drone.v9i.yolov5pytorch\\test\\labels... 1 images, 0 backgrounds, 0 corrupt:   0%|          | 1/507 [00:05<48:13,  5.72s/it]\n",
      "\u001b[34m\u001b[1mtest: \u001b[0mScanning C:\\Users\\User\\Documents\\workspace\\Graute_Product\\training\\dataset\\drone.v9i.yolov5pytorch\\test\\labels... 264 images, 1 backgrounds, 0 corrupt:  52%|█████▏    | 264/507 [00:05<00:03, 64.27it/s]\n",
      "\u001b[34m\u001b[1mtest: \u001b[0mScanning C:\\Users\\User\\Documents\\workspace\\Graute_Product\\training\\dataset\\drone.v9i.yolov5pytorch\\test\\labels... 473 images, 1 backgrounds, 0 corrupt:  93%|█████████▎| 473/507 [00:05<00:00, 132.38it/s]\n",
      "\u001b[34m\u001b[1mtest: \u001b[0mScanning C:\\Users\\User\\Documents\\workspace\\Graute_Product\\training\\dataset\\drone.v9i.yolov5pytorch\\test\\labels... 507 images, 1 backgrounds, 0 corrupt: 100%|██████████| 507/507 [00:05<00:00, 85.44it/s] \n",
      "\u001b[34m\u001b[1mtest: \u001b[0mNew cache created: C:\\Users\\User\\Documents\\workspace\\Graute_Product\\training\\dataset\\drone.v9i.yolov5pytorch\\test\\labels.cache\n",
      "\n",
      "                 Class     Images  Instances          P          R      mAP50   mAP50-95:   0%|          | 0/16 [00:00<?, ?it/s]\n",
      "                 Class     Images  Instances          P          R      mAP50   mAP50-95:   6%|▋         | 1/16 [00:01<00:22,  1.47s/it]\n",
      "                 Class     Images  Instances          P          R      mAP50   mAP50-95:  12%|█▎        | 2/16 [00:01<00:11,  1.27it/s]\n",
      "                 Class     Images  Instances          P          R      mAP50   mAP50-95:  19%|█▉        | 3/16 [00:02<00:07,  1.76it/s]\n",
      "                 Class     Images  Instances          P          R      mAP50   mAP50-95:  25%|██▌       | 4/16 [00:02<00:05,  2.27it/s]\n",
      "                 Class     Images  Instances          P          R      mAP50   mAP50-95:  31%|███▏      | 5/16 [00:02<00:03,  2.80it/s]\n",
      "                 Class     Images  Instances          P          R      mAP50   mAP50-95:  38%|███▊      | 6/16 [00:02<00:03,  3.21it/s]\n",
      "                 Class     Images  Instances          P          R      mAP50   mAP50-95:  44%|████▍     | 7/16 [00:02<00:02,  3.57it/s]\n",
      "                 Class     Images  Instances          P          R      mAP50   mAP50-95:  50%|█████     | 8/16 [00:03<00:02,  3.87it/s]\n",
      "                 Class     Images  Instances          P          R      mAP50   mAP50-95:  56%|█████▋    | 9/16 [00:03<00:01,  4.06it/s]\n",
      "                 Class     Images  Instances          P          R      mAP50   mAP50-95:  62%|██████▎   | 10/16 [00:03<00:01,  4.21it/s]\n",
      "                 Class     Images  Instances          P          R      mAP50   mAP50-95:  69%|██████▉   | 11/16 [00:03<00:01,  4.25it/s]\n",
      "                 Class     Images  Instances          P          R      mAP50   mAP50-95:  75%|███████▌  | 12/16 [00:04<00:00,  4.35it/s]\n",
      "                 Class     Images  Instances          P          R      mAP50   mAP50-95:  81%|████████▏ | 13/16 [00:04<00:00,  4.27it/s]\n",
      "                 Class     Images  Instances          P          R      mAP50   mAP50-95:  88%|████████▊ | 14/16 [00:04<00:00,  4.25it/s]\n",
      "                 Class     Images  Instances          P          R      mAP50   mAP50-95:  94%|█████████▍| 15/16 [00:04<00:00,  4.13it/s]\n",
      "                 Class     Images  Instances          P          R      mAP50   mAP50-95: 100%|██████████| 16/16 [00:05<00:00,  4.34it/s]\n",
      "                 Class     Images  Instances          P          R      mAP50   mAP50-95: 100%|██████████| 16/16 [00:05<00:00,  3.19it/s]\n",
      "                   all        507        518      0.914      0.869      0.929      0.566\n",
      "Speed: 0.5ms pre-process, 2.4ms inference, 0.8ms NMS per image at shape (32, 3, 640, 640)\n",
      "Results saved to \u001b[1mruns\\val\\exp\u001b[0m\n",
      "507 labels saved to runs\\val\\exp\\labels\n"
     ]
    }
   ],
   "source": [
    "!python val.py --task \"test\" --data {data_yaml} --weights dronebestv2.pt --device 0 --save-txt"
   ]
  }
 ],
 "metadata": {
  "kernelspec": {
   "display_name": "tensor",
   "language": "python",
   "name": "python3"
  },
  "language_info": {
   "codemirror_mode": {
    "name": "ipython",
    "version": 3
   },
   "file_extension": ".py",
   "mimetype": "text/x-python",
   "name": "python",
   "nbconvert_exporter": "python",
   "pygments_lexer": "ipython3",
   "version": "3.12.2"
  }
 },
 "nbformat": 4,
 "nbformat_minor": 2
}
